{
  "cells": [
    {
      "cell_type": "code",
      "execution_count": 1,
      "metadata": {
        "id": "9214H4ErDTIu"
      },
      "outputs": [],
      "source": [
        "import pandas as pd"
      ]
    },
    {
      "cell_type": "code",
      "execution_count": 2,
      "metadata": {
        "id": "hRUfdFuLDqNo"
      },
      "outputs": [],
      "source": [
        "df1 = pd.read_csv('train_data.csv')"
      ]
    },
    {
      "cell_type": "code",
      "execution_count": 3,
      "metadata": {
        "colab": {
          "base_uri": "https://localhost:8080/",
          "height": 250
        },
        "id": "2z21lcQXKTtE",
        "outputId": "9ad507fc-9686-4bab-a10f-96c63a4a0a03"
      },
      "outputs": [
        {
          "data": {
            "text/html": [
              "<div>\n",
              "<style scoped>\n",
              "    .dataframe tbody tr th:only-of-type {\n",
              "        vertical-align: middle;\n",
              "    }\n",
              "\n",
              "    .dataframe tbody tr th {\n",
              "        vertical-align: top;\n",
              "    }\n",
              "\n",
              "    .dataframe thead th {\n",
              "        text-align: right;\n",
              "    }\n",
              "</style>\n",
              "<table border=\"1\" class=\"dataframe\">\n",
              "  <thead>\n",
              "    <tr style=\"text-align: right;\">\n",
              "      <th></th>\n",
              "      <th>Tier</th>\n",
              "      <th>FICO</th>\n",
              "      <th>Term</th>\n",
              "      <th>Amount</th>\n",
              "      <th>Previous_Rate</th>\n",
              "      <th>Competition_rate</th>\n",
              "      <th>Rate</th>\n",
              "      <th>Cost_Funds</th>\n",
              "      <th>Partner Bin</th>\n",
              "      <th>Car_Type_N</th>\n",
              "      <th>Car_Type_R</th>\n",
              "      <th>Car_Type_U</th>\n",
              "      <th>Accept</th>\n",
              "    </tr>\n",
              "  </thead>\n",
              "  <tbody>\n",
              "    <tr>\n",
              "      <th>0</th>\n",
              "      <td>2</td>\n",
              "      <td>725</td>\n",
              "      <td>72</td>\n",
              "      <td>30500.0</td>\n",
              "      <td>5</td>\n",
              "      <td>6.09</td>\n",
              "      <td>4.99</td>\n",
              "      <td>1.1200</td>\n",
              "      <td>2</td>\n",
              "      <td>0</td>\n",
              "      <td>1</td>\n",
              "      <td>0</td>\n",
              "      <td>0</td>\n",
              "    </tr>\n",
              "    <tr>\n",
              "      <th>1</th>\n",
              "      <td>1</td>\n",
              "      <td>739</td>\n",
              "      <td>60</td>\n",
              "      <td>25995.0</td>\n",
              "      <td>-10</td>\n",
              "      <td>4.79</td>\n",
              "      <td>4.79</td>\n",
              "      <td>1.9590</td>\n",
              "      <td>2</td>\n",
              "      <td>0</td>\n",
              "      <td>0</td>\n",
              "      <td>1</td>\n",
              "      <td>0</td>\n",
              "    </tr>\n",
              "    <tr>\n",
              "      <th>2</th>\n",
              "      <td>1</td>\n",
              "      <td>781</td>\n",
              "      <td>60</td>\n",
              "      <td>39000.0</td>\n",
              "      <td>-10</td>\n",
              "      <td>4.25</td>\n",
              "      <td>4.25</td>\n",
              "      <td>1.1200</td>\n",
              "      <td>2</td>\n",
              "      <td>1</td>\n",
              "      <td>0</td>\n",
              "      <td>0</td>\n",
              "      <td>0</td>\n",
              "    </tr>\n",
              "    <tr>\n",
              "      <th>3</th>\n",
              "      <td>2</td>\n",
              "      <td>718</td>\n",
              "      <td>72</td>\n",
              "      <td>30000.0</td>\n",
              "      <td>-10</td>\n",
              "      <td>5.39</td>\n",
              "      <td>5.44</td>\n",
              "      <td>1.3363</td>\n",
              "      <td>1</td>\n",
              "      <td>1</td>\n",
              "      <td>0</td>\n",
              "      <td>0</td>\n",
              "      <td>1</td>\n",
              "    </tr>\n",
              "    <tr>\n",
              "      <th>4</th>\n",
              "      <td>2</td>\n",
              "      <td>703</td>\n",
              "      <td>72</td>\n",
              "      <td>38000.0</td>\n",
              "      <td>-10</td>\n",
              "      <td>5.75</td>\n",
              "      <td>6.29</td>\n",
              "      <td>1.1338</td>\n",
              "      <td>1</td>\n",
              "      <td>0</td>\n",
              "      <td>0</td>\n",
              "      <td>1</td>\n",
              "      <td>0</td>\n",
              "    </tr>\n",
              "  </tbody>\n",
              "</table>\n",
              "</div>"
            ],
            "text/plain": [
              "   Tier  FICO  Term   Amount  Previous_Rate  Competition_rate  Rate  \\\n",
              "0     2   725    72  30500.0              5              6.09  4.99   \n",
              "1     1   739    60  25995.0            -10              4.79  4.79   \n",
              "2     1   781    60  39000.0            -10              4.25  4.25   \n",
              "3     2   718    72  30000.0            -10              5.39  5.44   \n",
              "4     2   703    72  38000.0            -10              5.75  6.29   \n",
              "\n",
              "   Cost_Funds  Partner Bin  Car_Type_N  Car_Type_R  Car_Type_U  Accept  \n",
              "0      1.1200            2           0           1           0       0  \n",
              "1      1.9590            2           0           0           1       0  \n",
              "2      1.1200            2           1           0           0       0  \n",
              "3      1.3363            1           1           0           0       1  \n",
              "4      1.1338            1           0           0           1       0  "
            ]
          },
          "execution_count": 3,
          "metadata": {},
          "output_type": "execute_result"
        }
      ],
      "source": [
        "df1.head()"
      ]
    },
    {
      "cell_type": "code",
      "execution_count": 4,
      "metadata": {
        "colab": {
          "base_uri": "https://localhost:8080/"
        },
        "id": "3S_x4AJzKVGL",
        "outputId": "186cb042-dd7b-4347-d0df-12799216324e"
      },
      "outputs": [
        {
          "data": {
            "text/plain": [
              "(145659, 13)"
            ]
          },
          "execution_count": 4,
          "metadata": {},
          "output_type": "execute_result"
        }
      ],
      "source": [
        "df1.shape"
      ]
    },
    {
      "cell_type": "code",
      "execution_count": 5,
      "metadata": {
        "colab": {
          "base_uri": "https://localhost:8080/",
          "height": 364
        },
        "id": "XbrX5faWKX8U",
        "outputId": "6f9f5683-9f8f-4614-b5bd-3459aa1f4a31"
      },
      "outputs": [
        {
          "data": {
            "text/html": [
              "<div>\n",
              "<style scoped>\n",
              "    .dataframe tbody tr th:only-of-type {\n",
              "        vertical-align: middle;\n",
              "    }\n",
              "\n",
              "    .dataframe tbody tr th {\n",
              "        vertical-align: top;\n",
              "    }\n",
              "\n",
              "    .dataframe thead th {\n",
              "        text-align: right;\n",
              "    }\n",
              "</style>\n",
              "<table border=\"1\" class=\"dataframe\">\n",
              "  <thead>\n",
              "    <tr style=\"text-align: right;\">\n",
              "      <th></th>\n",
              "      <th>Tier</th>\n",
              "      <th>FICO</th>\n",
              "      <th>Term</th>\n",
              "      <th>Amount</th>\n",
              "      <th>Previous_Rate</th>\n",
              "      <th>Competition_rate</th>\n",
              "      <th>Rate</th>\n",
              "      <th>Cost_Funds</th>\n",
              "      <th>Partner Bin</th>\n",
              "      <th>Car_Type_N</th>\n",
              "      <th>Car_Type_R</th>\n",
              "      <th>Car_Type_U</th>\n",
              "      <th>Accept</th>\n",
              "    </tr>\n",
              "  </thead>\n",
              "  <tbody>\n",
              "    <tr>\n",
              "      <th>count</th>\n",
              "      <td>145659.000000</td>\n",
              "      <td>145659.000000</td>\n",
              "      <td>145659.000000</td>\n",
              "      <td>145659.000000</td>\n",
              "      <td>145659.000000</td>\n",
              "      <td>145659.000000</td>\n",
              "      <td>145659.000000</td>\n",
              "      <td>145659.000000</td>\n",
              "      <td>145659.000000</td>\n",
              "      <td>145659.000000</td>\n",
              "      <td>145659.000000</td>\n",
              "      <td>145659.000000</td>\n",
              "      <td>145659.000000</td>\n",
              "    </tr>\n",
              "    <tr>\n",
              "      <th>mean</th>\n",
              "      <td>1.928429</td>\n",
              "      <td>726.695556</td>\n",
              "      <td>56.822441</td>\n",
              "      <td>25996.819760</td>\n",
              "      <td>-6.001435</td>\n",
              "      <td>4.807957</td>\n",
              "      <td>5.623998</td>\n",
              "      <td>1.329209</td>\n",
              "      <td>2.029473</td>\n",
              "      <td>0.571815</td>\n",
              "      <td>0.226865</td>\n",
              "      <td>0.201320</td>\n",
              "      <td>0.220041</td>\n",
              "    </tr>\n",
              "    <tr>\n",
              "      <th>std</th>\n",
              "      <td>1.050519</td>\n",
              "      <td>44.727756</td>\n",
              "      <td>11.201037</td>\n",
              "      <td>11125.968255</td>\n",
              "      <td>7.499216</td>\n",
              "      <td>0.586018</td>\n",
              "      <td>1.545418</td>\n",
              "      <td>0.278368</td>\n",
              "      <td>0.911097</td>\n",
              "      <td>0.494817</td>\n",
              "      <td>0.418806</td>\n",
              "      <td>0.400988</td>\n",
              "      <td>0.414276</td>\n",
              "    </tr>\n",
              "    <tr>\n",
              "      <th>min</th>\n",
              "      <td>1.000000</td>\n",
              "      <td>594.000000</td>\n",
              "      <td>36.000000</td>\n",
              "      <td>4526.620000</td>\n",
              "      <td>-10.000000</td>\n",
              "      <td>2.990000</td>\n",
              "      <td>2.450000</td>\n",
              "      <td>1.020000</td>\n",
              "      <td>1.000000</td>\n",
              "      <td>0.000000</td>\n",
              "      <td>0.000000</td>\n",
              "      <td>0.000000</td>\n",
              "      <td>0.000000</td>\n",
              "    </tr>\n",
              "    <tr>\n",
              "      <th>25%</th>\n",
              "      <td>1.000000</td>\n",
              "      <td>692.000000</td>\n",
              "      <td>48.000000</td>\n",
              "      <td>17753.450000</td>\n",
              "      <td>-10.000000</td>\n",
              "      <td>4.390000</td>\n",
              "      <td>4.490000</td>\n",
              "      <td>1.110000</td>\n",
              "      <td>1.000000</td>\n",
              "      <td>0.000000</td>\n",
              "      <td>0.000000</td>\n",
              "      <td>0.000000</td>\n",
              "      <td>0.000000</td>\n",
              "    </tr>\n",
              "    <tr>\n",
              "      <th>50%</th>\n",
              "      <td>2.000000</td>\n",
              "      <td>726.000000</td>\n",
              "      <td>60.000000</td>\n",
              "      <td>25000.000000</td>\n",
              "      <td>-10.000000</td>\n",
              "      <td>4.790000</td>\n",
              "      <td>5.090000</td>\n",
              "      <td>1.262500</td>\n",
              "      <td>2.000000</td>\n",
              "      <td>1.000000</td>\n",
              "      <td>0.000000</td>\n",
              "      <td>0.000000</td>\n",
              "      <td>0.000000</td>\n",
              "    </tr>\n",
              "    <tr>\n",
              "      <th>75%</th>\n",
              "      <td>3.000000</td>\n",
              "      <td>762.000000</td>\n",
              "      <td>60.000000</td>\n",
              "      <td>33000.000000</td>\n",
              "      <td>-10.000000</td>\n",
              "      <td>5.190000</td>\n",
              "      <td>6.390000</td>\n",
              "      <td>1.419400</td>\n",
              "      <td>3.000000</td>\n",
              "      <td>1.000000</td>\n",
              "      <td>0.000000</td>\n",
              "      <td>0.000000</td>\n",
              "      <td>0.000000</td>\n",
              "    </tr>\n",
              "    <tr>\n",
              "      <th>max</th>\n",
              "      <td>4.000000</td>\n",
              "      <td>852.000000</td>\n",
              "      <td>72.000000</td>\n",
              "      <td>100000.000000</td>\n",
              "      <td>24.000000</td>\n",
              "      <td>6.450000</td>\n",
              "      <td>15.530000</td>\n",
              "      <td>2.127000</td>\n",
              "      <td>3.000000</td>\n",
              "      <td>1.000000</td>\n",
              "      <td>1.000000</td>\n",
              "      <td>1.000000</td>\n",
              "      <td>1.000000</td>\n",
              "    </tr>\n",
              "  </tbody>\n",
              "</table>\n",
              "</div>"
            ],
            "text/plain": [
              "                Tier           FICO           Term         Amount  \\\n",
              "count  145659.000000  145659.000000  145659.000000  145659.000000   \n",
              "mean        1.928429     726.695556      56.822441   25996.819760   \n",
              "std         1.050519      44.727756      11.201037   11125.968255   \n",
              "min         1.000000     594.000000      36.000000    4526.620000   \n",
              "25%         1.000000     692.000000      48.000000   17753.450000   \n",
              "50%         2.000000     726.000000      60.000000   25000.000000   \n",
              "75%         3.000000     762.000000      60.000000   33000.000000   \n",
              "max         4.000000     852.000000      72.000000  100000.000000   \n",
              "\n",
              "       Previous_Rate  Competition_rate           Rate     Cost_Funds  \\\n",
              "count  145659.000000     145659.000000  145659.000000  145659.000000   \n",
              "mean       -6.001435          4.807957       5.623998       1.329209   \n",
              "std         7.499216          0.586018       1.545418       0.278368   \n",
              "min       -10.000000          2.990000       2.450000       1.020000   \n",
              "25%       -10.000000          4.390000       4.490000       1.110000   \n",
              "50%       -10.000000          4.790000       5.090000       1.262500   \n",
              "75%       -10.000000          5.190000       6.390000       1.419400   \n",
              "max        24.000000          6.450000      15.530000       2.127000   \n",
              "\n",
              "         Partner Bin     Car_Type_N     Car_Type_R     Car_Type_U  \\\n",
              "count  145659.000000  145659.000000  145659.000000  145659.000000   \n",
              "mean        2.029473       0.571815       0.226865       0.201320   \n",
              "std         0.911097       0.494817       0.418806       0.400988   \n",
              "min         1.000000       0.000000       0.000000       0.000000   \n",
              "25%         1.000000       0.000000       0.000000       0.000000   \n",
              "50%         2.000000       1.000000       0.000000       0.000000   \n",
              "75%         3.000000       1.000000       0.000000       0.000000   \n",
              "max         3.000000       1.000000       1.000000       1.000000   \n",
              "\n",
              "              Accept  \n",
              "count  145659.000000  \n",
              "mean        0.220041  \n",
              "std         0.414276  \n",
              "min         0.000000  \n",
              "25%         0.000000  \n",
              "50%         0.000000  \n",
              "75%         0.000000  \n",
              "max         1.000000  "
            ]
          },
          "execution_count": 5,
          "metadata": {},
          "output_type": "execute_result"
        }
      ],
      "source": [
        "df1.describe()"
      ]
    },
    {
      "cell_type": "code",
      "execution_count": 6,
      "metadata": {
        "colab": {
          "base_uri": "https://localhost:8080/"
        },
        "id": "trAYH3AnKdAA",
        "outputId": "20c7d176-3a56-4dfd-f187-3669b9f958a7"
      },
      "outputs": [
        {
          "data": {
            "text/plain": [
              "Tier                0\n",
              "FICO                0\n",
              "Term                0\n",
              "Amount              0\n",
              "Previous_Rate       0\n",
              "Competition_rate    0\n",
              "Rate                0\n",
              "Cost_Funds          0\n",
              "Partner Bin         0\n",
              "Car_Type_N          0\n",
              "Car_Type_R          0\n",
              "Car_Type_U          0\n",
              "Accept              0\n",
              "dtype: int64"
            ]
          },
          "execution_count": 6,
          "metadata": {},
          "output_type": "execute_result"
        }
      ],
      "source": [
        "df1.isnull().sum()"
      ]
    },
    {
      "cell_type": "code",
      "execution_count": 7,
      "metadata": {
        "colab": {
          "base_uri": "https://localhost:8080/"
        },
        "id": "7QkZ1gRVKhAi",
        "outputId": "ae92c50c-052a-44bb-afbe-f7658a2c982d"
      },
      "outputs": [
        {
          "data": {
            "text/plain": [
              "Tier                  int64\n",
              "FICO                  int64\n",
              "Term                  int64\n",
              "Amount              float64\n",
              "Previous_Rate         int64\n",
              "Competition_rate    float64\n",
              "Rate                float64\n",
              "Cost_Funds          float64\n",
              "Partner Bin           int64\n",
              "Car_Type_N            int64\n",
              "Car_Type_R            int64\n",
              "Car_Type_U            int64\n",
              "Accept                int64\n",
              "dtype: object"
            ]
          },
          "execution_count": 7,
          "metadata": {},
          "output_type": "execute_result"
        }
      ],
      "source": [
        "df1.dtypes"
      ]
    },
    {
      "cell_type": "code",
      "execution_count": 8,
      "metadata": {
        "colab": {
          "base_uri": "https://localhost:8080/"
        },
        "id": "ixiiqNXxKspn",
        "outputId": "64f69320-dfb0-4f0f-fa0f-293cdca906c9"
      },
      "outputs": [
        {
          "data": {
            "text/plain": [
              "0    0.779959\n",
              "1    0.220041\n",
              "Name: Accept, dtype: float64"
            ]
          },
          "execution_count": 8,
          "metadata": {},
          "output_type": "execute_result"
        }
      ],
      "source": [
        "df1['Accept'].value_counts(normalize=True)"
      ]
    },
    {
      "cell_type": "code",
      "execution_count": 9,
      "metadata": {
        "colab": {
          "base_uri": "https://localhost:8080/"
        },
        "id": "bg_Fjl8MLW2W",
        "outputId": "ba08f57d-a43e-4804-dd11-a2d8e15f4106"
      },
      "outputs": [
        {
          "data": {
            "text/plain": [
              "Index(['Tier', 'FICO', 'Term', 'Amount', 'Previous_Rate', 'Competition_rate',\n",
              "       'Rate', 'Cost_Funds', 'Partner Bin', 'Car_Type_N', 'Car_Type_R',\n",
              "       'Car_Type_U', 'Accept'],\n",
              "      dtype='object')"
            ]
          },
          "execution_count": 9,
          "metadata": {},
          "output_type": "execute_result"
        }
      ],
      "source": [
        "df1.columns"
      ]
    },
    {
      "cell_type": "code",
      "execution_count": 10,
      "metadata": {
        "id": "IhkZAY9CLfdq"
      },
      "outputs": [],
      "source": [
        "features = ['Tier', 'FICO', 'Term', 'Amount', 'Previous_Rate', 'Competition_rate',\n",
        "       'Rate', 'Cost_Funds', 'Partner Bin', 'Car_Type_N', 'Car_Type_R',\n",
        "       'Car_Type_U']"
      ]
    },
    {
      "cell_type": "code",
      "execution_count": 11,
      "metadata": {
        "id": "LLmsW_ozL18c"
      },
      "outputs": [],
      "source": [
        "target = ['Accept']"
      ]
    },
    {
      "cell_type": "code",
      "execution_count": 12,
      "metadata": {
        "colab": {
          "base_uri": "https://localhost:8080/"
        },
        "id": "1DWOdQg5L6PW",
        "outputId": "7ae8bf65-998a-4f98-cf4b-97f7562289f8"
      },
      "outputs": [
        {
          "name": "stdout",
          "output_type": "stream",
          "text": [
            "(145659, 12) (145659, 1)\n"
          ]
        }
      ],
      "source": [
        "X_train = df1[features]\n",
        "y_train = df1[target]\n",
        "print(X_train.shape,y_train.shape)"
      ]
    },
    {
      "cell_type": "code",
      "execution_count": 13,
      "metadata": {
        "id": "eMQeZeZwVdvz"
      },
      "outputs": [],
      "source": [
        "df2 = pd.read_csv('test_data.csv')"
      ]
    },
    {
      "cell_type": "code",
      "execution_count": 14,
      "metadata": {
        "colab": {
          "base_uri": "https://localhost:8080/",
          "height": 250
        },
        "id": "z8Qvci8tVqGc",
        "outputId": "cdf36815-4bcc-4d0c-d869-62574c26494b"
      },
      "outputs": [
        {
          "data": {
            "text/html": [
              "<div>\n",
              "<style scoped>\n",
              "    .dataframe tbody tr th:only-of-type {\n",
              "        vertical-align: middle;\n",
              "    }\n",
              "\n",
              "    .dataframe tbody tr th {\n",
              "        vertical-align: top;\n",
              "    }\n",
              "\n",
              "    .dataframe thead th {\n",
              "        text-align: right;\n",
              "    }\n",
              "</style>\n",
              "<table border=\"1\" class=\"dataframe\">\n",
              "  <thead>\n",
              "    <tr style=\"text-align: right;\">\n",
              "      <th></th>\n",
              "      <th>Tier</th>\n",
              "      <th>FICO</th>\n",
              "      <th>Term</th>\n",
              "      <th>Amount</th>\n",
              "      <th>Previous_Rate</th>\n",
              "      <th>Competition_rate</th>\n",
              "      <th>Rate</th>\n",
              "      <th>Cost_Funds</th>\n",
              "      <th>Partner Bin</th>\n",
              "      <th>Car_Type_N</th>\n",
              "      <th>Car_Type_R</th>\n",
              "      <th>Car_Type_U</th>\n",
              "      <th>Accept</th>\n",
              "    </tr>\n",
              "  </thead>\n",
              "  <tbody>\n",
              "    <tr>\n",
              "      <th>0</th>\n",
              "      <td>4</td>\n",
              "      <td>656</td>\n",
              "      <td>60</td>\n",
              "      <td>19600.0</td>\n",
              "      <td>-10</td>\n",
              "      <td>5.49</td>\n",
              "      <td>7.89</td>\n",
              "      <td>1.80</td>\n",
              "      <td>1</td>\n",
              "      <td>1</td>\n",
              "      <td>0</td>\n",
              "      <td>0</td>\n",
              "      <td>0</td>\n",
              "    </tr>\n",
              "    <tr>\n",
              "      <th>1</th>\n",
              "      <td>2</td>\n",
              "      <td>708</td>\n",
              "      <td>60</td>\n",
              "      <td>25921.0</td>\n",
              "      <td>8</td>\n",
              "      <td>5.49</td>\n",
              "      <td>7.02</td>\n",
              "      <td>1.99</td>\n",
              "      <td>2</td>\n",
              "      <td>0</td>\n",
              "      <td>1</td>\n",
              "      <td>0</td>\n",
              "      <td>0</td>\n",
              "    </tr>\n",
              "    <tr>\n",
              "      <th>2</th>\n",
              "      <td>4</td>\n",
              "      <td>666</td>\n",
              "      <td>60</td>\n",
              "      <td>18542.0</td>\n",
              "      <td>-10</td>\n",
              "      <td>5.75</td>\n",
              "      <td>7.89</td>\n",
              "      <td>1.82</td>\n",
              "      <td>3</td>\n",
              "      <td>0</td>\n",
              "      <td>0</td>\n",
              "      <td>1</td>\n",
              "      <td>0</td>\n",
              "    </tr>\n",
              "    <tr>\n",
              "      <th>3</th>\n",
              "      <td>1</td>\n",
              "      <td>749</td>\n",
              "      <td>48</td>\n",
              "      <td>18000.0</td>\n",
              "      <td>-10</td>\n",
              "      <td>4.89</td>\n",
              "      <td>4.14</td>\n",
              "      <td>1.34</td>\n",
              "      <td>1</td>\n",
              "      <td>1</td>\n",
              "      <td>0</td>\n",
              "      <td>0</td>\n",
              "      <td>1</td>\n",
              "    </tr>\n",
              "    <tr>\n",
              "      <th>4</th>\n",
              "      <td>2</td>\n",
              "      <td>709</td>\n",
              "      <td>60</td>\n",
              "      <td>25000.0</td>\n",
              "      <td>-10</td>\n",
              "      <td>4.25</td>\n",
              "      <td>4.69</td>\n",
              "      <td>1.11</td>\n",
              "      <td>1</td>\n",
              "      <td>1</td>\n",
              "      <td>0</td>\n",
              "      <td>0</td>\n",
              "      <td>0</td>\n",
              "    </tr>\n",
              "  </tbody>\n",
              "</table>\n",
              "</div>"
            ],
            "text/plain": [
              "   Tier  FICO  Term   Amount  Previous_Rate  Competition_rate  Rate  \\\n",
              "0     4   656    60  19600.0            -10              5.49  7.89   \n",
              "1     2   708    60  25921.0              8              5.49  7.02   \n",
              "2     4   666    60  18542.0            -10              5.75  7.89   \n",
              "3     1   749    48  18000.0            -10              4.89  4.14   \n",
              "4     2   709    60  25000.0            -10              4.25  4.69   \n",
              "\n",
              "   Cost_Funds  Partner Bin  Car_Type_N  Car_Type_R  Car_Type_U  Accept  \n",
              "0        1.80            1           1           0           0       0  \n",
              "1        1.99            2           0           1           0       0  \n",
              "2        1.82            3           0           0           1       0  \n",
              "3        1.34            1           1           0           0       1  \n",
              "4        1.11            1           1           0           0       0  "
            ]
          },
          "execution_count": 14,
          "metadata": {},
          "output_type": "execute_result"
        }
      ],
      "source": [
        "df2.head()"
      ]
    },
    {
      "cell_type": "code",
      "execution_count": 15,
      "metadata": {
        "colab": {
          "base_uri": "https://localhost:8080/"
        },
        "id": "bFbSNVyEA2S5",
        "outputId": "1d458eda-604c-43dc-c5a0-128e796dd774"
      },
      "outputs": [
        {
          "data": {
            "text/plain": [
              "(62426, 13)"
            ]
          },
          "execution_count": 15,
          "metadata": {},
          "output_type": "execute_result"
        }
      ],
      "source": [
        "df2.shape"
      ]
    },
    {
      "cell_type": "code",
      "execution_count": 16,
      "metadata": {
        "colab": {
          "base_uri": "https://localhost:8080/"
        },
        "id": "3xx1b7_uA0xZ",
        "outputId": "e69ce11a-dd74-4d60-b6b6-98a96a7a7827"
      },
      "outputs": [
        {
          "data": {
            "text/plain": [
              "0    0.779963\n",
              "1    0.220037\n",
              "Name: Accept, dtype: float64"
            ]
          },
          "execution_count": 16,
          "metadata": {},
          "output_type": "execute_result"
        }
      ],
      "source": [
        "df2['Accept'].value_counts(normalize=True)"
      ]
    },
    {
      "cell_type": "code",
      "execution_count": 18,
      "metadata": {
        "colab": {
          "base_uri": "https://localhost:8080/"
        },
        "id": "WU5jYQcUv6bK",
        "outputId": "635525d4-8672-4c36-aeae-503b88e25782"
      },
      "outputs": [
        {
          "name": "stdout",
          "output_type": "stream",
          "text": [
            "Tier                0\n",
            "FICO                0\n",
            "Term                0\n",
            "Amount              0\n",
            "Previous_Rate       0\n",
            "Competition_rate    0\n",
            "Rate                0\n",
            "Cost_Funds          0\n",
            "Partner Bin         0\n",
            "Car_Type_N          0\n",
            "Car_Type_R          0\n",
            "Car_Type_U          0\n",
            "Accept              0\n",
            "dtype: int64\n"
          ]
        }
      ],
      "source": [
        "print(df2.isnull().sum())"
      ]
    },
    {
      "cell_type": "code",
      "execution_count": 19,
      "metadata": {
        "id": "3NCIjjFPVn-6"
      },
      "outputs": [],
      "source": [
        "X_test = df2[features]\n",
        "y_test = df2[target]"
      ]
    },
    {
      "cell_type": "code",
      "execution_count": 20,
      "metadata": {
        "colab": {
          "base_uri": "https://localhost:8080/"
        },
        "id": "0w6VtjGJ2oe-",
        "outputId": "4179e07a-1468-427b-a47f-efcd6fcbebb2"
      },
      "outputs": [
        {
          "name": "stdout",
          "output_type": "stream",
          "text": [
            "(62426, 12) (62426, 1)\n"
          ]
        }
      ],
      "source": [
        "print(X_test.shape,y_test.shape)"
      ]
    },
    {
      "cell_type": "code",
      "execution_count": 21,
      "metadata": {
        "id": "T8FN5WCCMDNA"
      },
      "outputs": [],
      "source": [
        "from sklearn.linear_model import LogisticRegression"
      ]
    },
    {
      "cell_type": "code",
      "execution_count": 22,
      "metadata": {
        "id": "xN1V5NUmVDNR"
      },
      "outputs": [],
      "source": [
        "logreg = LogisticRegression()"
      ]
    },
    {
      "cell_type": "code",
      "execution_count": 23,
      "metadata": {
        "colab": {
          "base_uri": "https://localhost:8080/"
        },
        "id": "fMKu4SftVH-0",
        "outputId": "0183f594-c97d-415f-b0b3-460a5b008400"
      },
      "outputs": [
        {
          "name": "stderr",
          "output_type": "stream",
          "text": [
            "c:\\Users\\All users\\Anaconda3\\lib\\site-packages\\sklearn\\utils\\validation.py:63: DataConversionWarning: A column-vector y was passed when a 1d array was expected. Please change the shape of y to (n_samples, ), for example using ravel().\n",
            "  return f(*args, **kwargs)\n",
            "c:\\Users\\All users\\Anaconda3\\lib\\site-packages\\sklearn\\linear_model\\_logistic.py:763: ConvergenceWarning: lbfgs failed to converge (status=1):\n",
            "STOP: TOTAL NO. of ITERATIONS REACHED LIMIT.\n",
            "\n",
            "Increase the number of iterations (max_iter) or scale the data as shown in:\n",
            "    https://scikit-learn.org/stable/modules/preprocessing.html\n",
            "Please also refer to the documentation for alternative solver options:\n",
            "    https://scikit-learn.org/stable/modules/linear_model.html#logistic-regression\n",
            "  n_iter_i = _check_optimize_result(\n"
          ]
        },
        {
          "data": {
            "text/plain": [
              "LogisticRegression()"
            ]
          },
          "execution_count": 23,
          "metadata": {},
          "output_type": "execute_result"
        }
      ],
      "source": [
        "logreg.fit(X_train,y_train)"
      ]
    },
    {
      "cell_type": "code",
      "execution_count": 24,
      "metadata": {
        "id": "KmYVqssaWN4K"
      },
      "outputs": [],
      "source": [
        "y_pred = logreg.predict(X_test)"
      ]
    },
    {
      "cell_type": "code",
      "execution_count": 25,
      "metadata": {
        "colab": {
          "base_uri": "https://localhost:8080/"
        },
        "id": "ctj8-DgP3NQ7",
        "outputId": "4b759cf5-fd09-4b60-b717-5606c490dfe1"
      },
      "outputs": [
        {
          "name": "stdout",
          "output_type": "stream",
          "text": [
            "(62426,)\n"
          ]
        }
      ],
      "source": [
        "print(y_pred.shape)"
      ]
    },
    {
      "cell_type": "code",
      "execution_count": 26,
      "metadata": {
        "id": "FJ7XqAZtWfGc"
      },
      "outputs": [],
      "source": [
        "from sklearn.metrics import classification_report\n",
        "from sklearn.metrics import confusion_matrix"
      ]
    },
    {
      "cell_type": "code",
      "execution_count": 27,
      "metadata": {
        "colab": {
          "base_uri": "https://localhost:8080/"
        },
        "id": "pqyxzPyrkuoa",
        "outputId": "bd08df26-8634-458f-8f50-7dca9a64d6b0"
      },
      "outputs": [
        {
          "name": "stdout",
          "output_type": "stream",
          "text": [
            "[[45595  3095]\n",
            " [ 8669  5067]]\n"
          ]
        }
      ],
      "source": [
        "print(confusion_matrix(y_test,y_pred))"
      ]
    },
    {
      "cell_type": "code",
      "execution_count": 28,
      "metadata": {
        "colab": {
          "base_uri": "https://localhost:8080/"
        },
        "id": "XP24AZc-ZJsH",
        "outputId": "d594804e-8a2b-41c6-cac6-a532635bd267"
      },
      "outputs": [
        {
          "name": "stdout",
          "output_type": "stream",
          "text": [
            "              precision    recall  f1-score   support\n",
            "\n",
            "           0       0.84      0.94      0.89     48690\n",
            "           1       0.62      0.37      0.46     13736\n",
            "\n",
            "    accuracy                           0.81     62426\n",
            "   macro avg       0.73      0.65      0.67     62426\n",
            "weighted avg       0.79      0.81      0.79     62426\n",
            "\n"
          ]
        }
      ],
      "source": [
        "print(classification_report(y_test,y_pred))"
      ]
    },
    {
      "cell_type": "code",
      "execution_count": 29,
      "metadata": {
        "id": "rHfxIccpWmMg"
      },
      "outputs": [],
      "source": [
        "y_pred_prob = logreg.predict_proba(X_test)[:,1]"
      ]
    },
    {
      "cell_type": "code",
      "execution_count": 30,
      "metadata": {
        "colab": {
          "base_uri": "https://localhost:8080/"
        },
        "id": "TB6Wz2IHW0E0",
        "outputId": "301a2ca3-71cc-433a-f6ab-759248e07b3f"
      },
      "outputs": [
        {
          "data": {
            "text/plain": [
              "array([0.10446941, 0.22966342, 0.2009181 , ..., 0.01569727, 0.50735694,\n",
              "       0.27582035])"
            ]
          },
          "execution_count": 30,
          "metadata": {},
          "output_type": "execute_result"
        }
      ],
      "source": [
        "y_pred_prob"
      ]
    },
    {
      "cell_type": "code",
      "execution_count": 31,
      "metadata": {
        "id": "JEUN0FA8YoK4"
      },
      "outputs": [],
      "source": [
        "df3 = pd.DataFrame()"
      ]
    },
    {
      "cell_type": "code",
      "execution_count": 32,
      "metadata": {
        "id": "nvJn4VOGmYqg"
      },
      "outputs": [],
      "source": [
        "df3['test'] = y_test"
      ]
    },
    {
      "cell_type": "code",
      "execution_count": 33,
      "metadata": {
        "id": "M4In3g5QnJh1"
      },
      "outputs": [],
      "source": [
        "df3['pred'] = y_pred"
      ]
    },
    {
      "cell_type": "code",
      "execution_count": 34,
      "metadata": {
        "id": "vBm_VVu1mfYv"
      },
      "outputs": [],
      "source": [
        "df3['pred_proba'] = y_pred_prob"
      ]
    },
    {
      "cell_type": "code",
      "execution_count": 35,
      "metadata": {
        "colab": {
          "base_uri": "https://localhost:8080/",
          "height": 676
        },
        "id": "O3EHePvqmxRA",
        "outputId": "b02c7f0c-9401-414e-d373-b4efea33cac7"
      },
      "outputs": [
        {
          "data": {
            "text/html": [
              "<div>\n",
              "<style scoped>\n",
              "    .dataframe tbody tr th:only-of-type {\n",
              "        vertical-align: middle;\n",
              "    }\n",
              "\n",
              "    .dataframe tbody tr th {\n",
              "        vertical-align: top;\n",
              "    }\n",
              "\n",
              "    .dataframe thead th {\n",
              "        text-align: right;\n",
              "    }\n",
              "</style>\n",
              "<table border=\"1\" class=\"dataframe\">\n",
              "  <thead>\n",
              "    <tr style=\"text-align: right;\">\n",
              "      <th></th>\n",
              "      <th>test</th>\n",
              "      <th>pred</th>\n",
              "      <th>pred_proba</th>\n",
              "    </tr>\n",
              "  </thead>\n",
              "  <tbody>\n",
              "    <tr>\n",
              "      <th>0</th>\n",
              "      <td>0</td>\n",
              "      <td>0</td>\n",
              "      <td>0.104469</td>\n",
              "    </tr>\n",
              "    <tr>\n",
              "      <th>1</th>\n",
              "      <td>0</td>\n",
              "      <td>0</td>\n",
              "      <td>0.229663</td>\n",
              "    </tr>\n",
              "    <tr>\n",
              "      <th>2</th>\n",
              "      <td>0</td>\n",
              "      <td>0</td>\n",
              "      <td>0.200918</td>\n",
              "    </tr>\n",
              "    <tr>\n",
              "      <th>3</th>\n",
              "      <td>1</td>\n",
              "      <td>0</td>\n",
              "      <td>0.252509</td>\n",
              "    </tr>\n",
              "    <tr>\n",
              "      <th>4</th>\n",
              "      <td>0</td>\n",
              "      <td>0</td>\n",
              "      <td>0.171504</td>\n",
              "    </tr>\n",
              "    <tr>\n",
              "      <th>5</th>\n",
              "      <td>0</td>\n",
              "      <td>0</td>\n",
              "      <td>0.012735</td>\n",
              "    </tr>\n",
              "    <tr>\n",
              "      <th>6</th>\n",
              "      <td>0</td>\n",
              "      <td>0</td>\n",
              "      <td>0.025080</td>\n",
              "    </tr>\n",
              "    <tr>\n",
              "      <th>7</th>\n",
              "      <td>1</td>\n",
              "      <td>1</td>\n",
              "      <td>0.621921</td>\n",
              "    </tr>\n",
              "    <tr>\n",
              "      <th>8</th>\n",
              "      <td>0</td>\n",
              "      <td>0</td>\n",
              "      <td>0.056890</td>\n",
              "    </tr>\n",
              "    <tr>\n",
              "      <th>9</th>\n",
              "      <td>0</td>\n",
              "      <td>0</td>\n",
              "      <td>0.024992</td>\n",
              "    </tr>\n",
              "    <tr>\n",
              "      <th>10</th>\n",
              "      <td>0</td>\n",
              "      <td>0</td>\n",
              "      <td>0.058080</td>\n",
              "    </tr>\n",
              "    <tr>\n",
              "      <th>11</th>\n",
              "      <td>0</td>\n",
              "      <td>0</td>\n",
              "      <td>0.128713</td>\n",
              "    </tr>\n",
              "    <tr>\n",
              "      <th>12</th>\n",
              "      <td>0</td>\n",
              "      <td>0</td>\n",
              "      <td>0.242091</td>\n",
              "    </tr>\n",
              "    <tr>\n",
              "      <th>13</th>\n",
              "      <td>0</td>\n",
              "      <td>0</td>\n",
              "      <td>0.151031</td>\n",
              "    </tr>\n",
              "    <tr>\n",
              "      <th>14</th>\n",
              "      <td>0</td>\n",
              "      <td>0</td>\n",
              "      <td>0.017061</td>\n",
              "    </tr>\n",
              "    <tr>\n",
              "      <th>15</th>\n",
              "      <td>1</td>\n",
              "      <td>0</td>\n",
              "      <td>0.307221</td>\n",
              "    </tr>\n",
              "    <tr>\n",
              "      <th>16</th>\n",
              "      <td>1</td>\n",
              "      <td>0</td>\n",
              "      <td>0.373279</td>\n",
              "    </tr>\n",
              "    <tr>\n",
              "      <th>17</th>\n",
              "      <td>0</td>\n",
              "      <td>0</td>\n",
              "      <td>0.023190</td>\n",
              "    </tr>\n",
              "    <tr>\n",
              "      <th>18</th>\n",
              "      <td>0</td>\n",
              "      <td>0</td>\n",
              "      <td>0.008110</td>\n",
              "    </tr>\n",
              "    <tr>\n",
              "      <th>19</th>\n",
              "      <td>0</td>\n",
              "      <td>1</td>\n",
              "      <td>0.899932</td>\n",
              "    </tr>\n",
              "  </tbody>\n",
              "</table>\n",
              "</div>"
            ],
            "text/plain": [
              "    test  pred  pred_proba\n",
              "0      0     0    0.104469\n",
              "1      0     0    0.229663\n",
              "2      0     0    0.200918\n",
              "3      1     0    0.252509\n",
              "4      0     0    0.171504\n",
              "5      0     0    0.012735\n",
              "6      0     0    0.025080\n",
              "7      1     1    0.621921\n",
              "8      0     0    0.056890\n",
              "9      0     0    0.024992\n",
              "10     0     0    0.058080\n",
              "11     0     0    0.128713\n",
              "12     0     0    0.242091\n",
              "13     0     0    0.151031\n",
              "14     0     0    0.017061\n",
              "15     1     0    0.307221\n",
              "16     1     0    0.373279\n",
              "17     0     0    0.023190\n",
              "18     0     0    0.008110\n",
              "19     0     1    0.899932"
            ]
          },
          "execution_count": 35,
          "metadata": {},
          "output_type": "execute_result"
        }
      ],
      "source": [
        "df3.head(20)"
      ]
    },
    {
      "cell_type": "code",
      "execution_count": null,
      "metadata": {
        "id": "Rkk4hNvKm8js"
      },
      "outputs": [],
      "source": []
    }
  ],
  "metadata": {
    "colab": {
      "collapsed_sections": [],
      "name": "Logistic Regression.ipynb",
      "provenance": []
    },
    "kernelspec": {
      "display_name": "Python 3",
      "name": "python3"
    },
    "language_info": {
      "codemirror_mode": {
        "name": "ipython",
        "version": 3
      },
      "file_extension": ".py",
      "mimetype": "text/x-python",
      "name": "python",
      "nbconvert_exporter": "python",
      "pygments_lexer": "ipython3",
      "version": "3.9.7"
    }
  },
  "nbformat": 4,
  "nbformat_minor": 0
}
