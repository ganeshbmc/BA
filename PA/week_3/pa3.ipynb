{
 "cells": [
  {
   "attachments": {},
   "cell_type": "markdown",
   "metadata": {},
   "source": [
    "## Q1  \n",
    "`p-value 0.02 is more than significance level 0.01.`  \n",
    "`Therefore, we conclude that null hypothesis is correct.`  \n",
    "`So, the categorical variables are independent`  "
   ]
  },
  {
   "attachments": {},
   "cell_type": "markdown",
   "metadata": {},
   "source": [
    "## Q2  \n",
    "`Probability that a randomly observed candidate chose Science based elective is`  \n",
    "`348/1174 = 0.2964`  "
   ]
  },
  {
   "attachments": {},
   "cell_type": "markdown",
   "metadata": {},
   "source": [
    "## Q3  \n",
    "`Probability that the candidate has chosen the Mathematics based elective given that the candidate is from Section B is`  \n",
    "`204/264 = 0.7727`  "
   ]
  },
  {
   "attachments": {},
   "cell_type": "markdown",
   "metadata": {},
   "source": [
    "## Q4 to Q6  \n",
    "`Refer to excel sheet \"q4_6_pa3.xlsx\" for calculated chi-squared value`  \n",
    "`Calculated chi-squared value: 7.808882`  \n"
   ]
  },
  {
   "attachments": {},
   "cell_type": "markdown",
   "metadata": {},
   "source": [
    "### Q4  \n",
    "`Calculated chi-squared value of 7.808882 is greater than tabular chi-squared value 3.84 at significance level of 0.05.`  \n",
    "`Which implies that observed and expected values are NOT close enough.`  \n",
    "`Therefore, we say that the categorical variables are NOT independent.`  \n",
    "`i.e, reject null hypothesis.`  "
   ]
  },
  {
   "attachments": {},
   "cell_type": "markdown",
   "metadata": {},
   "source": [
    "### Q5  \n",
    "`Calculated chi-squared value of 7.808882 is greater than tabular chi-squared value 6.63 at significance level of 0.01.`  \n",
    "`Which implies that observed and expected values are NOT close enough.`  \n",
    "`Therefore, we say that the categorical variables are NOT independent.`  \n",
    "`i.e, reject null hypothesis.`  "
   ]
  },
  {
   "attachments": {},
   "cell_type": "markdown",
   "metadata": {},
   "source": [
    "### Q6  \n",
    "`Calculated chi-squared value of 7.808882 is lesser than tabular chi-squared value 10.83 at significance level of 0.001.`  \n",
    "`Which implies that observed and expected values are close enough.`  \n",
    "`Therefore, we say that the categorical variables are independent.`  \n",
    "`i.e, accept (fail to reject) null hypothesis.`  "
   ]
  },
  {
   "attachments": {},
   "cell_type": "markdown",
   "metadata": {},
   "source": [
    "## Q7"
   ]
  },
  {
   "attachments": {},
   "cell_type": "markdown",
   "metadata": {},
   "source": [
    "### Bayes' theorem  \n",
    "`p(B | defective) = p(B & defective) / p(defective)`"
   ]
  },
  {
   "attachments": {},
   "cell_type": "markdown",
   "metadata": {},
   "source": [
    "`p(B & defective)   =   p(defective | B) * p(B)`  \n",
    "`p(B & defective)   =   0.02 * 0.30`   \n",
    "`p(B & defective)   = 0.006`"
   ]
  },
  {
   "attachments": {},
   "cell_type": "markdown",
   "metadata": {},
   "source": [
    "`p(defective) = (p(defective | A) * p(A)) + (p(defective | B) * p(B)) + (p(defective | C) * p(C))`  \n",
    "`p(defective) = (0.01 * 0.65) + (0.02 * 0.30) + (0 * 0.05)`  \n",
    "`p(defective) = 0.0125`   "
   ]
  },
  {
   "attachments": {},
   "cell_type": "markdown",
   "metadata": {},
   "source": [
    "`Therefore,`  \n",
    "`p(B | defective) = 0.006 / 0.0125`  \n",
    "`p(B | defective) = 0.48`  "
   ]
  }
 ],
 "metadata": {
  "kernelspec": {
   "display_name": "Python 3",
   "language": "python",
   "name": "python3"
  },
  "language_info": {
   "codemirror_mode": {
    "name": "ipython",
    "version": 3
   },
   "file_extension": ".py",
   "mimetype": "text/x-python",
   "name": "python",
   "nbconvert_exporter": "python",
   "pygments_lexer": "ipython3",
   "version": "3.9.7"
  },
  "orig_nbformat": 4
 },
 "nbformat": 4,
 "nbformat_minor": 2
}
