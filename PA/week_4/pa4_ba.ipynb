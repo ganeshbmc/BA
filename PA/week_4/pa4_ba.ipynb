{
 "cells": [
  {
   "cell_type": "markdown",
   "metadata": {},
   "source": [
    "# PA4  "
   ]
  },
  {
   "cell_type": "markdown",
   "metadata": {},
   "source": [
    "`Q3`  "
   ]
  },
  {
   "cell_type": "markdown",
   "metadata": {},
   "source": [
    "`Elasticity = (% change in demand) / (% change in price)`  "
   ]
  },
  {
   "cell_type": "code",
   "execution_count": 9,
   "metadata": {},
   "outputs": [
    {
     "name": "stdout",
     "output_type": "stream",
     "text": [
      "% change in demand: 0.2\n",
      "% change in price: 0.25\n",
      "Elasticity: 0.8\n"
     ]
    }
   ],
   "source": [
    "# % change in demand \n",
    "print(f\"% change in demand: \", end=\"\") \n",
    "print((10 - 8) / 10)\n",
    "\n",
    "# % change in price\n",
    "print(f\"% change in price: \", end=\"\") \n",
    "print((3.75-3) / 3)\n",
    "\n",
    "# Elasticity\n",
    "print(\"Elasticity: \", end=\"\")\n",
    "print(((10 - 8) / 10) / ((3.75-3) / 3))"
   ]
  },
  {
   "cell_type": "markdown",
   "metadata": {},
   "source": [
    "`Q4`  "
   ]
  },
  {
   "cell_type": "markdown",
   "metadata": {},
   "source": [
    "`Constant Elasticity`  \n",
    "`D = C * (p ^ (-e))`  \n",
    "\n",
    "Where D is demand, C is constant (defined as demand when price = 1), p is price and e is elasticity  "
   ]
  },
  {
   "cell_type": "code",
   "execution_count": 10,
   "metadata": {},
   "outputs": [
    {
     "name": "stdout",
     "output_type": "stream",
     "text": [
      "C: 5971607.55830246\n"
     ]
    }
   ],
   "source": [
    "# Calculate constant C\n",
    "# 1500 = C * 10000 ^ (-0.9)\n",
    "# Therefore, C = 1500 / 10000 ^ (-0.9)\n",
    "C = 1500 / (10000 ** (-0.9))\n",
    "print(f\"C: {C}\")"
   ]
  },
  {
   "cell_type": "code",
   "execution_count": 12,
   "metadata": {},
   "outputs": [
    {
     "name": "stdout",
     "output_type": "stream",
     "text": [
      "D: 1833.623941017991\n"
     ]
    }
   ],
   "source": [
    "# Calculate new demand at price 8000\n",
    "D = 5971607.55830246 * (8000 ** (-0.9))\n",
    "print(f\"D: {D}\")"
   ]
  }
 ],
 "metadata": {
  "kernelspec": {
   "display_name": "Python 3",
   "language": "python",
   "name": "python3"
  },
  "language_info": {
   "codemirror_mode": {
    "name": "ipython",
    "version": 3
   },
   "file_extension": ".py",
   "mimetype": "text/x-python",
   "name": "python",
   "nbconvert_exporter": "python",
   "pygments_lexer": "ipython3",
   "version": "3.9.7"
  },
  "orig_nbformat": 4
 },
 "nbformat": 4,
 "nbformat_minor": 2
}
